{
  "cells": [
    {
      "cell_type": "code",
      "execution_count": null,
      "metadata": {
        "id": "tiGZu2xgrEUo"
      },
      "outputs": [],
      "source": [
        "# Zul Fadli Ahmad; NIM: 60200121101\n",
        "# Ahmad Gazali.Z; NIM: 60200121048\n",
        "# Link Berita: https://news.detik.com/berita-jawa-tengah/d-4880262/diduga-stres-skripsi-mahasiswa-yogya-tewas-bunuh-diri-dalam-kos"
      ]
    },
    {
      "cell_type": "markdown",
      "metadata": {
        "id": "xBgfI_Y_w8Ua"
      },
      "source": [
        "# 00 - Persiapan Library\n",
        "\n",
        "Menginstal Library Sastrawati dan NLTK.\n",
        "\n"
      ]
    },
    {
      "cell_type": "code",
      "execution_count": null,
      "metadata": {
        "colab": {
          "base_uri": "https://localhost:8080/"
        },
        "id": "a78m6T1Hzdcp",
        "outputId": "bc735798-a9db-4c94-9c9c-7c2ade4797a9"
      },
      "outputs": [
        {
          "name": "stdout",
          "output_type": "stream",
          "text": [
            "Collecting Sastrawi\n",
            "  Downloading Sastrawi-1.0.1-py2.py3-none-any.whl (209 kB)\n",
            "\u001b[?25l     \u001b[90m━━━━━━━━━━━━━━━━━━━━━━━━━━━━━━━━━━━━━━━━\u001b[0m \u001b[32m0.0/209.7 kB\u001b[0m \u001b[31m?\u001b[0m eta \u001b[36m-:--:--\u001b[0m\r\u001b[2K     \u001b[91m━━━━━━━━━━━\u001b[0m\u001b[91m╸\u001b[0m\u001b[90m━━━━━━━━━━━━━━━━━━━━━━━━━━━━\u001b[0m \u001b[32m61.4/209.7 kB\u001b[0m \u001b[31m1.7 MB/s\u001b[0m eta \u001b[36m0:00:01\u001b[0m\r\u001b[2K     \u001b[90m━━━━━━━━━━━━━━━━━━━━━━━━━━━━━━━━━━━━━━━━\u001b[0m \u001b[32m209.7/209.7 kB\u001b[0m \u001b[31m3.5 MB/s\u001b[0m eta \u001b[36m0:00:00\u001b[0m\n",
            "\u001b[?25hRequirement already satisfied: nltk in /usr/local/lib/python3.10/dist-packages (3.8.1)\n",
            "Requirement already satisfied: click in /usr/local/lib/python3.10/dist-packages (from nltk) (8.1.7)\n",
            "Requirement already satisfied: joblib in /usr/local/lib/python3.10/dist-packages (from nltk) (1.3.2)\n",
            "Requirement already satisfied: regex>=2021.8.3 in /usr/local/lib/python3.10/dist-packages (from nltk) (2023.12.25)\n",
            "Requirement already satisfied: tqdm in /usr/local/lib/python3.10/dist-packages (from nltk) (4.66.2)\n",
            "Installing collected packages: Sastrawi\n",
            "Successfully installed Sastrawi-1.0.1\n"
          ]
        }
      ],
      "source": [
        "pip install Sastrawi nltk"
      ]
    },
    {
      "cell_type": "code",
      "execution_count": null,
      "metadata": {
        "colab": {
          "base_uri": "https://localhost:8080/"
        },
        "id": "QCtF9DAH15eo",
        "outputId": "57a45e52-bfd2-408f-e117-3e19ac1c9b4a"
      },
      "outputs": [
        {
          "name": "stderr",
          "output_type": "stream",
          "text": [
            "[nltk_data] Downloading collection 'all'\n",
            "[nltk_data]    | \n",
            "[nltk_data]    | Downloading package abc to /root/nltk_data...\n",
            "[nltk_data]    |   Package abc is already up-to-date!\n",
            "[nltk_data]    | Downloading package alpino to /root/nltk_data...\n",
            "[nltk_data]    |   Package alpino is already up-to-date!\n",
            "[nltk_data]    | Downloading package averaged_perceptron_tagger to\n",
            "[nltk_data]    |     /root/nltk_data...\n",
            "[nltk_data]    |   Package averaged_perceptron_tagger is already up-\n",
            "[nltk_data]    |       to-date!\n",
            "[nltk_data]    | Downloading package averaged_perceptron_tagger_ru to\n",
            "[nltk_data]    |     /root/nltk_data...\n",
            "[nltk_data]    |   Package averaged_perceptron_tagger_ru is already\n",
            "[nltk_data]    |       up-to-date!\n",
            "[nltk_data]    | Downloading package basque_grammars to\n",
            "[nltk_data]    |     /root/nltk_data...\n",
            "[nltk_data]    |   Package basque_grammars is already up-to-date!\n",
            "[nltk_data]    | Downloading package bcp47 to /root/nltk_data...\n",
            "[nltk_data]    |   Package bcp47 is already up-to-date!\n",
            "[nltk_data]    | Downloading package biocreative_ppi to\n",
            "[nltk_data]    |     /root/nltk_data...\n",
            "[nltk_data]    |   Package biocreative_ppi is already up-to-date!\n",
            "[nltk_data]    | Downloading package bllip_wsj_no_aux to\n",
            "[nltk_data]    |     /root/nltk_data...\n",
            "[nltk_data]    |   Package bllip_wsj_no_aux is already up-to-date!\n",
            "[nltk_data]    | Downloading package book_grammars to\n",
            "[nltk_data]    |     /root/nltk_data...\n",
            "[nltk_data]    |   Package book_grammars is already up-to-date!\n",
            "[nltk_data]    | Downloading package brown to /root/nltk_data...\n",
            "[nltk_data]    |   Package brown is already up-to-date!\n",
            "[nltk_data]    | Downloading package brown_tei to /root/nltk_data...\n",
            "[nltk_data]    |   Package brown_tei is already up-to-date!\n",
            "[nltk_data]    | Downloading package cess_cat to /root/nltk_data...\n",
            "[nltk_data]    |   Package cess_cat is already up-to-date!\n",
            "[nltk_data]    | Downloading package cess_esp to /root/nltk_data...\n",
            "[nltk_data]    |   Package cess_esp is already up-to-date!\n",
            "[nltk_data]    | Downloading package chat80 to /root/nltk_data...\n",
            "[nltk_data]    |   Package chat80 is already up-to-date!\n",
            "[nltk_data]    | Downloading package city_database to\n",
            "[nltk_data]    |     /root/nltk_data...\n",
            "[nltk_data]    |   Package city_database is already up-to-date!\n",
            "[nltk_data]    | Downloading package cmudict to /root/nltk_data...\n",
            "[nltk_data]    |   Package cmudict is already up-to-date!\n",
            "[nltk_data]    | Downloading package comparative_sentences to\n",
            "[nltk_data]    |     /root/nltk_data...\n",
            "[nltk_data]    |   Package comparative_sentences is already up-to-\n",
            "[nltk_data]    |       date!\n",
            "[nltk_data]    | Downloading package comtrans to /root/nltk_data...\n",
            "[nltk_data]    |   Package comtrans is already up-to-date!\n",
            "[nltk_data]    | Downloading package conll2000 to /root/nltk_data...\n",
            "[nltk_data]    |   Package conll2000 is already up-to-date!\n",
            "[nltk_data]    | Downloading package conll2002 to /root/nltk_data...\n",
            "[nltk_data]    |   Package conll2002 is already up-to-date!\n",
            "[nltk_data]    | Downloading package conll2007 to /root/nltk_data...\n",
            "[nltk_data]    |   Package conll2007 is already up-to-date!\n",
            "[nltk_data]    | Downloading package crubadan to /root/nltk_data...\n",
            "[nltk_data]    |   Package crubadan is already up-to-date!\n",
            "[nltk_data]    | Downloading package dependency_treebank to\n",
            "[nltk_data]    |     /root/nltk_data...\n",
            "[nltk_data]    |   Package dependency_treebank is already up-to-date!\n",
            "[nltk_data]    | Downloading package dolch to /root/nltk_data...\n",
            "[nltk_data]    |   Package dolch is already up-to-date!\n",
            "[nltk_data]    | Downloading package europarl_raw to\n",
            "[nltk_data]    |     /root/nltk_data...\n",
            "[nltk_data]    |   Package europarl_raw is already up-to-date!\n",
            "[nltk_data]    | Downloading package extended_omw to\n",
            "[nltk_data]    |     /root/nltk_data...\n",
            "[nltk_data]    |   Package extended_omw is already up-to-date!\n",
            "[nltk_data]    | Downloading package floresta to /root/nltk_data...\n",
            "[nltk_data]    |   Package floresta is already up-to-date!\n",
            "[nltk_data]    | Downloading package framenet_v15 to\n",
            "[nltk_data]    |     /root/nltk_data...\n",
            "[nltk_data]    |   Package framenet_v15 is already up-to-date!\n",
            "[nltk_data]    | Downloading package framenet_v17 to\n",
            "[nltk_data]    |     /root/nltk_data...\n",
            "[nltk_data]    |   Package framenet_v17 is already up-to-date!\n",
            "[nltk_data]    | Downloading package gazetteers to /root/nltk_data...\n",
            "[nltk_data]    |   Package gazetteers is already up-to-date!\n",
            "[nltk_data]    | Downloading package genesis to /root/nltk_data...\n",
            "[nltk_data]    |   Package genesis is already up-to-date!\n",
            "[nltk_data]    | Downloading package gutenberg to /root/nltk_data...\n",
            "[nltk_data]    |   Package gutenberg is already up-to-date!\n",
            "[nltk_data]    | Downloading package ieer to /root/nltk_data...\n",
            "[nltk_data]    |   Package ieer is already up-to-date!\n",
            "[nltk_data]    | Downloading package inaugural to /root/nltk_data...\n",
            "[nltk_data]    |   Package inaugural is already up-to-date!\n",
            "[nltk_data]    | Downloading package indian to /root/nltk_data...\n",
            "[nltk_data]    |   Package indian is already up-to-date!\n",
            "[nltk_data]    | Downloading package jeita to /root/nltk_data...\n",
            "[nltk_data]    |   Package jeita is already up-to-date!\n",
            "[nltk_data]    | Downloading package kimmo to /root/nltk_data...\n",
            "[nltk_data]    |   Package kimmo is already up-to-date!\n",
            "[nltk_data]    | Downloading package knbc to /root/nltk_data...\n",
            "[nltk_data]    |   Package knbc is already up-to-date!\n",
            "[nltk_data]    | Downloading package large_grammars to\n",
            "[nltk_data]    |     /root/nltk_data...\n",
            "[nltk_data]    |   Package large_grammars is already up-to-date!\n",
            "[nltk_data]    | Downloading package lin_thesaurus to\n",
            "[nltk_data]    |     /root/nltk_data...\n",
            "[nltk_data]    |   Package lin_thesaurus is already up-to-date!\n",
            "[nltk_data]    | Downloading package mac_morpho to /root/nltk_data...\n",
            "[nltk_data]    |   Package mac_morpho is already up-to-date!\n",
            "[nltk_data]    | Downloading package machado to /root/nltk_data...\n",
            "[nltk_data]    |   Package machado is already up-to-date!\n",
            "[nltk_data]    | Downloading package masc_tagged to /root/nltk_data...\n",
            "[nltk_data]    |   Package masc_tagged is already up-to-date!\n",
            "[nltk_data]    | Downloading package maxent_ne_chunker to\n",
            "[nltk_data]    |     /root/nltk_data...\n",
            "[nltk_data]    |   Package maxent_ne_chunker is already up-to-date!\n",
            "[nltk_data]    | Downloading package maxent_treebank_pos_tagger to\n",
            "[nltk_data]    |     /root/nltk_data...\n",
            "[nltk_data]    |   Package maxent_treebank_pos_tagger is already up-\n",
            "[nltk_data]    |       to-date!\n",
            "[nltk_data]    | Downloading package moses_sample to\n",
            "[nltk_data]    |     /root/nltk_data...\n",
            "[nltk_data]    |   Package moses_sample is already up-to-date!\n",
            "[nltk_data]    | Downloading package movie_reviews to\n",
            "[nltk_data]    |     /root/nltk_data...\n",
            "[nltk_data]    |   Package movie_reviews is already up-to-date!\n",
            "[nltk_data]    | Downloading package mte_teip5 to /root/nltk_data...\n",
            "[nltk_data]    |   Package mte_teip5 is already up-to-date!\n",
            "[nltk_data]    | Downloading package mwa_ppdb to /root/nltk_data...\n",
            "[nltk_data]    |   Package mwa_ppdb is already up-to-date!\n",
            "[nltk_data]    | Downloading package names to /root/nltk_data...\n",
            "[nltk_data]    |   Package names is already up-to-date!\n",
            "[nltk_data]    | Downloading package nombank.1.0 to /root/nltk_data...\n",
            "[nltk_data]    |   Package nombank.1.0 is already up-to-date!\n",
            "[nltk_data]    | Downloading package nonbreaking_prefixes to\n",
            "[nltk_data]    |     /root/nltk_data...\n",
            "[nltk_data]    |   Package nonbreaking_prefixes is already up-to-date!\n",
            "[nltk_data]    | Downloading package nps_chat to /root/nltk_data...\n",
            "[nltk_data]    |   Package nps_chat is already up-to-date!\n",
            "[nltk_data]    | Downloading package omw to /root/nltk_data...\n",
            "[nltk_data]    |   Package omw is already up-to-date!\n",
            "[nltk_data]    | Downloading package omw-1.4 to /root/nltk_data...\n",
            "[nltk_data]    |   Package omw-1.4 is already up-to-date!\n",
            "[nltk_data]    | Downloading package opinion_lexicon to\n",
            "[nltk_data]    |     /root/nltk_data...\n",
            "[nltk_data]    |   Package opinion_lexicon is already up-to-date!\n",
            "[nltk_data]    | Downloading package panlex_swadesh to\n",
            "[nltk_data]    |     /root/nltk_data...\n",
            "[nltk_data]    |   Package panlex_swadesh is already up-to-date!\n",
            "[nltk_data]    | Downloading package paradigms to /root/nltk_data...\n",
            "[nltk_data]    |   Package paradigms is already up-to-date!\n",
            "[nltk_data]    | Downloading package pe08 to /root/nltk_data...\n",
            "[nltk_data]    |   Package pe08 is already up-to-date!\n",
            "[nltk_data]    | Downloading package perluniprops to\n",
            "[nltk_data]    |     /root/nltk_data...\n",
            "[nltk_data]    |   Package perluniprops is already up-to-date!\n",
            "[nltk_data]    | Downloading package pil to /root/nltk_data...\n",
            "[nltk_data]    |   Package pil is already up-to-date!\n",
            "[nltk_data]    | Downloading package pl196x to /root/nltk_data...\n",
            "[nltk_data]    |   Package pl196x is already up-to-date!\n",
            "[nltk_data]    | Downloading package porter_test to /root/nltk_data...\n",
            "[nltk_data]    |   Package porter_test is already up-to-date!\n",
            "[nltk_data]    | Downloading package ppattach to /root/nltk_data...\n",
            "[nltk_data]    |   Package ppattach is already up-to-date!\n",
            "[nltk_data]    | Downloading package problem_reports to\n",
            "[nltk_data]    |     /root/nltk_data...\n",
            "[nltk_data]    |   Package problem_reports is already up-to-date!\n",
            "[nltk_data]    | Downloading package product_reviews_1 to\n",
            "[nltk_data]    |     /root/nltk_data...\n",
            "[nltk_data]    |   Package product_reviews_1 is already up-to-date!\n",
            "[nltk_data]    | Downloading package product_reviews_2 to\n",
            "[nltk_data]    |     /root/nltk_data...\n",
            "[nltk_data]    |   Package product_reviews_2 is already up-to-date!\n",
            "[nltk_data]    | Downloading package propbank to /root/nltk_data...\n",
            "[nltk_data]    |   Package propbank is already up-to-date!\n",
            "[nltk_data]    | Downloading package pros_cons to /root/nltk_data...\n",
            "[nltk_data]    |   Package pros_cons is already up-to-date!\n",
            "[nltk_data]    | Downloading package ptb to /root/nltk_data...\n",
            "[nltk_data]    |   Package ptb is already up-to-date!\n",
            "[nltk_data]    | Downloading package punkt to /root/nltk_data...\n",
            "[nltk_data]    |   Package punkt is already up-to-date!\n",
            "[nltk_data]    | Downloading package qc to /root/nltk_data...\n",
            "[nltk_data]    |   Package qc is already up-to-date!\n",
            "[nltk_data]    | Downloading package reuters to /root/nltk_data...\n",
            "[nltk_data]    |   Package reuters is already up-to-date!\n",
            "[nltk_data]    | Downloading package rslp to /root/nltk_data...\n",
            "[nltk_data]    |   Package rslp is already up-to-date!\n",
            "[nltk_data]    | Downloading package rte to /root/nltk_data...\n",
            "[nltk_data]    |   Package rte is already up-to-date!\n",
            "[nltk_data]    | Downloading package sample_grammars to\n",
            "[nltk_data]    |     /root/nltk_data...\n",
            "[nltk_data]    |   Package sample_grammars is already up-to-date!\n",
            "[nltk_data]    | Downloading package semcor to /root/nltk_data...\n",
            "[nltk_data]    |   Package semcor is already up-to-date!\n",
            "[nltk_data]    | Downloading package senseval to /root/nltk_data...\n",
            "[nltk_data]    |   Package senseval is already up-to-date!\n",
            "[nltk_data]    | Downloading package sentence_polarity to\n",
            "[nltk_data]    |     /root/nltk_data...\n",
            "[nltk_data]    |   Package sentence_polarity is already up-to-date!\n",
            "[nltk_data]    | Downloading package sentiwordnet to\n",
            "[nltk_data]    |     /root/nltk_data...\n",
            "[nltk_data]    |   Package sentiwordnet is already up-to-date!\n",
            "[nltk_data]    | Downloading package shakespeare to /root/nltk_data...\n",
            "[nltk_data]    |   Package shakespeare is already up-to-date!\n",
            "[nltk_data]    | Downloading package sinica_treebank to\n",
            "[nltk_data]    |     /root/nltk_data...\n",
            "[nltk_data]    |   Package sinica_treebank is already up-to-date!\n",
            "[nltk_data]    | Downloading package smultron to /root/nltk_data...\n",
            "[nltk_data]    |   Package smultron is already up-to-date!\n",
            "[nltk_data]    | Downloading package snowball_data to\n",
            "[nltk_data]    |     /root/nltk_data...\n",
            "[nltk_data]    |   Package snowball_data is already up-to-date!\n",
            "[nltk_data]    | Downloading package spanish_grammars to\n",
            "[nltk_data]    |     /root/nltk_data...\n",
            "[nltk_data]    |   Package spanish_grammars is already up-to-date!\n",
            "[nltk_data]    | Downloading package state_union to /root/nltk_data...\n",
            "[nltk_data]    |   Package state_union is already up-to-date!\n",
            "[nltk_data]    | Downloading package stopwords to /root/nltk_data...\n",
            "[nltk_data]    |   Package stopwords is already up-to-date!\n",
            "[nltk_data]    | Downloading package subjectivity to\n",
            "[nltk_data]    |     /root/nltk_data...\n",
            "[nltk_data]    |   Package subjectivity is already up-to-date!\n",
            "[nltk_data]    | Downloading package swadesh to /root/nltk_data...\n",
            "[nltk_data]    |   Package swadesh is already up-to-date!\n",
            "[nltk_data]    | Downloading package switchboard to /root/nltk_data...\n",
            "[nltk_data]    |   Package switchboard is already up-to-date!\n",
            "[nltk_data]    | Downloading package tagsets to /root/nltk_data...\n",
            "[nltk_data]    |   Package tagsets is already up-to-date!\n",
            "[nltk_data]    | Downloading package timit to /root/nltk_data...\n",
            "[nltk_data]    |   Package timit is already up-to-date!\n",
            "[nltk_data]    | Downloading package toolbox to /root/nltk_data...\n",
            "[nltk_data]    |   Package toolbox is already up-to-date!\n",
            "[nltk_data]    | Downloading package treebank to /root/nltk_data...\n",
            "[nltk_data]    |   Package treebank is already up-to-date!\n",
            "[nltk_data]    | Downloading package twitter_samples to\n",
            "[nltk_data]    |     /root/nltk_data...\n",
            "[nltk_data]    |   Package twitter_samples is already up-to-date!\n",
            "[nltk_data]    | Downloading package udhr to /root/nltk_data...\n",
            "[nltk_data]    |   Package udhr is already up-to-date!\n",
            "[nltk_data]    | Downloading package udhr2 to /root/nltk_data...\n",
            "[nltk_data]    |   Package udhr2 is already up-to-date!\n",
            "[nltk_data]    | Downloading package unicode_samples to\n",
            "[nltk_data]    |     /root/nltk_data...\n",
            "[nltk_data]    |   Package unicode_samples is already up-to-date!\n",
            "[nltk_data]    | Downloading package universal_tagset to\n",
            "[nltk_data]    |     /root/nltk_data...\n",
            "[nltk_data]    |   Package universal_tagset is already up-to-date!\n",
            "[nltk_data]    | Downloading package universal_treebanks_v20 to\n",
            "[nltk_data]    |     /root/nltk_data...\n",
            "[nltk_data]    |   Package universal_treebanks_v20 is already up-to-\n",
            "[nltk_data]    |       date!\n",
            "[nltk_data]    | Downloading package vader_lexicon to\n",
            "[nltk_data]    |     /root/nltk_data...\n",
            "[nltk_data]    |   Package vader_lexicon is already up-to-date!\n",
            "[nltk_data]    | Downloading package verbnet to /root/nltk_data...\n",
            "[nltk_data]    |   Package verbnet is already up-to-date!\n",
            "[nltk_data]    | Downloading package verbnet3 to /root/nltk_data...\n",
            "[nltk_data]    |   Package verbnet3 is already up-to-date!\n",
            "[nltk_data]    | Downloading package webtext to /root/nltk_data...\n",
            "[nltk_data]    |   Package webtext is already up-to-date!\n",
            "[nltk_data]    | Downloading package wmt15_eval to /root/nltk_data...\n",
            "[nltk_data]    |   Package wmt15_eval is already up-to-date!\n",
            "[nltk_data]    | Downloading package word2vec_sample to\n",
            "[nltk_data]    |     /root/nltk_data...\n",
            "[nltk_data]    |   Package word2vec_sample is already up-to-date!\n",
            "[nltk_data]    | Downloading package wordnet to /root/nltk_data...\n",
            "[nltk_data]    |   Package wordnet is already up-to-date!\n",
            "[nltk_data]    | Downloading package wordnet2021 to /root/nltk_data...\n",
            "[nltk_data]    |   Package wordnet2021 is already up-to-date!\n",
            "[nltk_data]    | Downloading package wordnet2022 to /root/nltk_data...\n",
            "[nltk_data]    |   Package wordnet2022 is already up-to-date!\n",
            "[nltk_data]    | Downloading package wordnet31 to /root/nltk_data...\n",
            "[nltk_data]    |   Package wordnet31 is already up-to-date!\n",
            "[nltk_data]    | Downloading package wordnet_ic to /root/nltk_data...\n",
            "[nltk_data]    |   Package wordnet_ic is already up-to-date!\n",
            "[nltk_data]    | Downloading package words to /root/nltk_data...\n",
            "[nltk_data]    |   Package words is already up-to-date!\n",
            "[nltk_data]    | Downloading package ycoe to /root/nltk_data...\n",
            "[nltk_data]    |   Package ycoe is already up-to-date!\n",
            "[nltk_data]    | \n",
            "[nltk_data]  Done downloading collection all\n"
          ]
        }
      ],
      "source": [
        "# Mengimport librarys yang dibutuhkan\n",
        "import pandas as pd\n",
        "import re\n",
        "import string\n",
        "from tabulate import tabulate\n",
        "\n",
        "import nltk\n",
        "nltk.download('all')\n",
        "from nltk.tokenize import sent_tokenize, word_tokenize\n",
        "from nltk.corpus import stopwords\n",
        "from nltk.tokenize import word_tokenize\n",
        "\n",
        "from Sastrawi.StopWordRemover.StopWordRemoverFactory import StopWordRemoverFactory\n",
        "from Sastrawi.Stemmer.StemmerFactory import StemmerFactory\n",
        "\n",
        "from sklearn.feature_extraction.text import TfidfVectorizer"
      ]
    },
    {
      "cell_type": "code",
      "execution_count": null,
      "metadata": {
        "id": "JGxQRu4h709o"
      },
      "outputs": [],
      "source": [
        "# Fungsi menampilkan table\n",
        "def printTable(table, index = False):\n",
        "  table.index += 1\n",
        "  print(tabulate(table, headers='keys', tablefmt='grid', showindex=index))"
      ]
    },
    {
      "cell_type": "markdown",
      "metadata": {
        "id": "GwGRcVa0xyrX"
      },
      "source": [
        "# 01 - Case Folding"
      ]
    },
    {
      "cell_type": "code",
      "execution_count": null,
      "metadata": {
        "colab": {
          "base_uri": "https://localhost:8080/"
        },
        "id": "N57ULfaHx81n",
        "outputId": "384e9e83-1e63-44c2-a38d-b3274bd01d4e"
      },
      "outputs": [
        {
          "name": "stdout",
          "output_type": "stream",
          "text": [
            "+------+-----------------------------------------------------------------------------------------------------------------------------------------------------------------------------------------------------------------------------------------------------------------------------+\n",
            "|   no | isi_kalimat                                                                                                                                                                                                                                                                 |\n",
            "+======+=============================================================================================================================================================================================================================================================================+\n",
            "|    1 | seorang mahasiswa salah satu perguruan tinggi swasta di yogyakarta ditemukan meninggal dunia di kamar kos di dusun jetis desa tirtoadi mlati sleman korban diduga meninggal dunia akibat bunuh diri                                                                         |\n",
            "+------+-----------------------------------------------------------------------------------------------------------------------------------------------------------------------------------------------------------------------------------------------------------------------------+\n",
            "|    2 | iya benar ada laporan dugaan bunuh diri di daerah dusun jetis tirtoadi pada kamis  malam ujar kanit reskrim polsek mlati iptu noor dwi cahyanto kepada wartawan melalui pesan singkat jumat                                                                                 |\n",
            "+------+-----------------------------------------------------------------------------------------------------------------------------------------------------------------------------------------------------------------------------------------------------------------------------+\n",
            "|    3 | korban diketahui atas nama fh  asal jawa timur berdasarkan keterangan dari para saksi yang dikumpulkan polisi menduga korban bunuh diri lantaran depresi                                                                                                                    |\n",
            "+------+-----------------------------------------------------------------------------------------------------------------------------------------------------------------------------------------------------------------------------------------------------------------------------+\n",
            "|    4 | korban diketahui mahasiswa perguruan tinggi swasta dugaannya dia bunuh diri karena depresi dari info yang kami terima sepertinya ada masalah keluarga dan ada kesulitan menyelesaikan skripsi juga bebernya                                                                 |\n",
            "+------+-----------------------------------------------------------------------------------------------------------------------------------------------------------------------------------------------------------------------------------------------------------------------------+\n",
            "|    5 | noor menjelaskan teman sesama penghuni kos melihat ada kaki di dalamsebuah kamar kos yang sedang dibangun pada kamis  malam                                                                                                                                                 |\n",
            "+------+-----------------------------------------------------------------------------------------------------------------------------------------------------------------------------------------------------------------------------------------------------------------------------+\n",
            "|    6 | saksi tersebut kemudian memanggil temannya                                                                                                                                                                                                                                  |\n",
            "+------+-----------------------------------------------------------------------------------------------------------------------------------------------------------------------------------------------------------------------------------------------------------------------------+\n",
            "|    7 | setelah dicek ternyata dia menemukan korban dalam keadaan bersimbah darah                                                                                                                                                                                                   |\n",
            "+------+-----------------------------------------------------------------------------------------------------------------------------------------------------------------------------------------------------------------------------------------------------------------------------+\n",
            "|    8 | kemudian karena takut dan situasi kamar gelap saksi memanggil temannya dan melihat korban sudah dalam keadaan bersimbah darah di dalam kamar dengan posisi tengkurap dan kepala di sebelah barat namun oleh saksi lainnya korban dibalik sehingga menjadi posisi terlentang |\n",
            "+------+-----------------------------------------------------------------------------------------------------------------------------------------------------------------------------------------------------------------------------------------------------------------------------+\n",
            "|    9 | tujuannya untuk memastikan korban masih hidup atau tidak                                                                                                                                                                                                                    |\n",
            "+------+-----------------------------------------------------------------------------------------------------------------------------------------------------------------------------------------------------------------------------------------------------------------------------+\n",
            "|   10 | namun ternyata korban sudah dalam keadaan meninggal ucapnya                                                                                                                                                                                                                 |\n",
            "+------+-----------------------------------------------------------------------------------------------------------------------------------------------------------------------------------------------------------------------------------------------------------------------------+\n"
          ]
        }
      ],
      "source": [
        "# Mengimpor data dari file Excel\n",
        "kalimat = pd.read_excel('Dataset Kalimat.xlsx')\n",
        "\n",
        "# Mengubah menjadi huruf kecil\n",
        "kalimat = kalimat.applymap(lambda x: x.lower() if isinstance(x, str) else x)\n",
        "\n",
        "# Menghapus angka\n",
        "kalimat['isi_kalimat'] = kalimat['isi_kalimat'].apply(lambda x: re.sub(r\"\\d+\", \"\", x) if isinstance(x, str) else x)\n",
        "\n",
        "# Menghapus tanda baca\n",
        "kalimat['isi_kalimat'] = kalimat['isi_kalimat'].apply(lambda x: x.translate(str.maketrans(\"\",\"\",string.punctuation)) if isinstance(x, str) else x)\n",
        "\n",
        "# Menghapus whitespace\n",
        "kalimat['isi_kalimat'] = kalimat['isi_kalimat'].apply(lambda x: x.strip() if isinstance(x, str) else x)\n",
        "\n",
        "# print(kalimat)\n",
        "printTable(kalimat)"
      ]
    },
    {
      "cell_type": "markdown",
      "metadata": {
        "id": "2viXi5vOBoko"
      },
      "source": [
        "# 02 - Stopword Removal"
      ]
    },
    {
      "cell_type": "code",
      "execution_count": null,
      "metadata": {
        "colab": {
          "base_uri": "https://localhost:8080/"
        },
        "id": "iasEbkSEDHxW",
        "outputId": "9d654c2c-6c79-4b7a-f3a4-4d26ea4c159e"
      },
      "outputs": [
        {
          "name": "stdout",
          "output_type": "stream",
          "text": [
            "+------+------------------------------------------------------------------------------------------------------------------------------------------------------------------------------------------------------------------------+\n",
            "|   no | isi_kalimat                                                                                                                                                                                                            |\n",
            "+======+========================================================================================================================================================================================================================+\n",
            "|    1 | seorang mahasiswa salah satu perguruan tinggi swasta yogyakarta ditemukan meninggal dunia kamar kos dusun jetis desa tirtoadi mlati sleman korban diduga meninggal dunia akibat bunuh diri                             |\n",
            "+------+------------------------------------------------------------------------------------------------------------------------------------------------------------------------------------------------------------------------+\n",
            "|    2 | iya benar laporan dugaan bunuh diri daerah dusun jetis tirtoadi kamis  malam ujar kanit reskrim polsek mlati iptu noor dwi cahyanto wartawan melalui pesan singkat jumat                                               |\n",
            "+------+------------------------------------------------------------------------------------------------------------------------------------------------------------------------------------------------------------------------+\n",
            "|    3 | korban diketahui atas nama fh  asal jawa timur berdasarkan keterangan para saksi dikumpulkan polisi menduga korban bunuh diri lantaran depresi                                                                         |\n",
            "+------+------------------------------------------------------------------------------------------------------------------------------------------------------------------------------------------------------------------------+\n",
            "|    4 | korban diketahui mahasiswa perguruan tinggi swasta dugaannya bunuh diri depresi info kami terima sepertinya masalah keluarga ada kesulitan menyelesaikan skripsi bebernya                                              |\n",
            "+------+------------------------------------------------------------------------------------------------------------------------------------------------------------------------------------------------------------------------+\n",
            "|    5 | noor menjelaskan teman sesama penghuni kos melihat kaki dalamsebuah kamar kos sedang dibangun kamis  malam                                                                                                             |\n",
            "+------+------------------------------------------------------------------------------------------------------------------------------------------------------------------------------------------------------------------------+\n",
            "|    6 | saksi tersebut kemudian memanggil temannya                                                                                                                                                                             |\n",
            "+------+------------------------------------------------------------------------------------------------------------------------------------------------------------------------------------------------------------------------+\n",
            "|    7 | dicek ternyata menemukan korban keadaan bersimbah darah                                                                                                                                                                |\n",
            "+------+------------------------------------------------------------------------------------------------------------------------------------------------------------------------------------------------------------------------+\n",
            "|    8 | kemudian takut situasi kamar gelap saksi memanggil temannya melihat korban dalam keadaan bersimbah darah dalam kamar posisi tengkurap kepala sebelah barat oleh saksi lainnya korban dibalik menjadi posisi terlentang |\n",
            "+------+------------------------------------------------------------------------------------------------------------------------------------------------------------------------------------------------------------------------+\n",
            "|    9 | tujuannya memastikan korban hidup tidak                                                                                                                                                                                |\n",
            "+------+------------------------------------------------------------------------------------------------------------------------------------------------------------------------------------------------------------------------+\n",
            "|   10 | ternyata korban dalam keadaan meninggal ucapnya                                                                                                                                                                        |\n",
            "+------+------------------------------------------------------------------------------------------------------------------------------------------------------------------------------------------------------------------------+\n"
          ]
        }
      ],
      "source": [
        "stopword_factory = StopWordRemoverFactory()\n",
        "stopword = stopword_factory.create_stop_word_remover()\n",
        "\n",
        "# Menghilangkan Stopword\n",
        "kalimat['isi_kalimat'] = kalimat['isi_kalimat'].apply(lambda x: stopword.remove(x) if isinstance(x, str) else x)\n",
        "printTable(kalimat)"
      ]
    },
    {
      "cell_type": "markdown",
      "metadata": {
        "id": "BOeHpBnxER4t"
      },
      "source": [
        "# 03 - Stamming"
      ]
    },
    {
      "cell_type": "code",
      "execution_count": null,
      "metadata": {
        "colab": {
          "base_uri": "https://localhost:8080/"
        },
        "id": "p8deoAcsEUqS",
        "outputId": "9584b832-9af4-4990-8689-9ec142b4609d"
      },
      "outputs": [
        {
          "name": "stdout",
          "output_type": "stream",
          "text": [
            "+------+---------------------------------------------------------------------------------------------------------------------------------------------------------------------------------------------+\n",
            "|   no | isi_kalimat                                                                                                                                                                                 |\n",
            "+======+=============================================================================================================================================================================================+\n",
            "|    1 | orang mahasiswa salah satu guru tinggi swasta yogyakarta temu tinggal dunia kamar kos dusun jetis desa tirtoadi mlati sleman korban duga tinggal dunia akibat bunuh diri                    |\n",
            "+------+---------------------------------------------------------------------------------------------------------------------------------------------------------------------------------------------+\n",
            "|    2 | iya benar lapor duga bunuh diri daerah dusun jetis tirtoadi kamis malam ujar kanit reskrim polsek mlati iptu noor dwi cahyanto wartawan lalu pesan singkat jumat                            |\n",
            "+------+---------------------------------------------------------------------------------------------------------------------------------------------------------------------------------------------+\n",
            "|    3 | korban tahu atas nama fh asal jawa timur dasar terang para saksi kumpul polisi duga korban bunuh diri lantar depresi                                                                        |\n",
            "+------+---------------------------------------------------------------------------------------------------------------------------------------------------------------------------------------------+\n",
            "|    4 | korban tahu mahasiswa guru tinggi swasta duga bunuh diri depresi info kami terima seperti masalah keluarga ada sulit selesai skripsi beber                                                  |\n",
            "+------+---------------------------------------------------------------------------------------------------------------------------------------------------------------------------------------------+\n",
            "|    5 | noor jelas teman sama huni kos lihat kaki dalamsebuah kamar kos sedang bangun kamis malam                                                                                                   |\n",
            "+------+---------------------------------------------------------------------------------------------------------------------------------------------------------------------------------------------+\n",
            "|    6 | saksi sebut kemudian panggil teman                                                                                                                                                          |\n",
            "+------+---------------------------------------------------------------------------------------------------------------------------------------------------------------------------------------------+\n",
            "|    7 | cek nyata temu korban ada simbah darah                                                                                                                                                      |\n",
            "+------+---------------------------------------------------------------------------------------------------------------------------------------------------------------------------------------------+\n",
            "|    8 | kemudian takut situasi kamar gelap saksi panggil teman lihat korban dalam ada simbah darah dalam kamar posisi tengkurap kepala belah barat oleh saksi lain korban balik jadi posisi lentang |\n",
            "+------+---------------------------------------------------------------------------------------------------------------------------------------------------------------------------------------------+\n",
            "|    9 | tuju pasti korban hidup tidak                                                                                                                                                               |\n",
            "+------+---------------------------------------------------------------------------------------------------------------------------------------------------------------------------------------------+\n",
            "|   10 | nyata korban dalam ada tinggal ucap                                                                                                                                                         |\n",
            "+------+---------------------------------------------------------------------------------------------------------------------------------------------------------------------------------------------+\n"
          ]
        }
      ],
      "source": [
        "stemmer_factory = StemmerFactory()\n",
        "stemmer = stemmer_factory.create_stemmer()\n",
        "\n",
        "# Melakukan Stamming\n",
        "kalimat['isi_kalimat'] = kalimat['isi_kalimat'].apply(lambda x: stemmer.stem(x) if isinstance(x, str) else x)\n",
        "printTable(kalimat)"
      ]
    },
    {
      "cell_type": "markdown",
      "metadata": {
        "id": "uR7iEQ_j8N9J"
      },
      "source": [
        "# 04 - Tokenizing"
      ]
    },
    {
      "cell_type": "code",
      "execution_count": null,
      "metadata": {
        "colab": {
          "base_uri": "https://localhost:8080/"
        },
        "id": "ZAdVXyOuBHVv",
        "outputId": "61929b2a-f723-4b36-d20d-75c772734dab"
      },
      "outputs": [
        {
          "name": "stdout",
          "output_type": "stream",
          "text": [
            "[['orang', 'mahasiswa', 'salah', 'satu', 'guru', 'tinggi', 'swasta', 'yogyakarta', 'temu', 'tinggal', 'dunia', 'kamar', 'kos', 'dusun', 'jetis', 'desa', 'tirtoadi', 'mlati', 'sleman', 'korban', 'duga', 'tinggal', 'dunia', 'akibat', 'bunuh', 'diri'], ['iya', 'benar', 'lapor', 'duga', 'bunuh', 'diri', 'daerah', 'dusun', 'jetis', 'tirtoadi', 'kamis', 'malam', 'ujar', 'kanit', 'reskrim', 'polsek', 'mlati', 'iptu', 'noor', 'dwi', 'cahyanto', 'wartawan', 'lalu', 'pesan', 'singkat', 'jumat'], ['korban', 'tahu', 'atas', 'nama', 'fh', 'asal', 'jawa', 'timur', 'dasar', 'terang', 'para', 'saksi', 'kumpul', 'polisi', 'duga', 'korban', 'bunuh', 'diri', 'lantar', 'depresi'], ['korban', 'tahu', 'mahasiswa', 'guru', 'tinggi', 'swasta', 'duga', 'bunuh', 'diri', 'depresi', 'info', 'kami', 'terima', 'seperti', 'masalah', 'keluarga', 'ada', 'sulit', 'selesai', 'skripsi', 'beber'], ['noor', 'jelas', 'teman', 'sama', 'huni', 'kos', 'lihat', 'kaki', 'dalamsebuah', 'kamar', 'kos', 'sedang', 'bangun', 'kamis', 'malam'], ['saksi', 'sebut', 'kemudian', 'panggil', 'teman'], ['cek', 'nyata', 'temu', 'korban', 'ada', 'simbah', 'darah'], ['kemudian', 'takut', 'situasi', 'kamar', 'gelap', 'saksi', 'panggil', 'teman', 'lihat', 'korban', 'dalam', 'ada', 'simbah', 'darah', 'dalam', 'kamar', 'posisi', 'tengkurap', 'kepala', 'belah', 'barat', 'oleh', 'saksi', 'lain', 'korban', 'balik', 'jadi', 'posisi', 'lentang'], ['tuju', 'pasti', 'korban', 'hidup', 'tidak'], ['nyata', 'korban', 'dalam', 'ada', 'tinggal', 'ucap']]\n"
          ]
        }
      ],
      "source": [
        "# Melakukan tokenisasi pada setiap data\n",
        "kalimat_tokens = []\n",
        "for index, row in kalimat.iterrows():\n",
        "    tokens = nltk.tokenize.word_tokenize(row['isi_kalimat'])\n",
        "    kalimat_tokens.append(tokens)\n",
        "\n",
        "print(kalimat_tokens)"
      ]
    },
    {
      "cell_type": "code",
      "execution_count": null,
      "metadata": {
        "colab": {
          "base_uri": "https://localhost:8080/"
        },
        "id": "nuLJvYiTGWWx",
        "outputId": "3ba517e7-75df-4740-9a5e-db6684b2cb75"
      },
      "outputs": [
        {
          "name": "stdout",
          "output_type": "stream",
          "text": [
            "[('tinggal', 2), ('dunia', 2), ('orang', 1), ('mahasiswa', 1), ('salah', 1), ('satu', 1), ('guru', 1), ('tinggi', 1), ('swasta', 1), ('yogyakarta', 1), ('temu', 1), ('kamar', 1), ('kos', 1), ('dusun', 1), ('jetis', 1), ('desa', 1), ('tirtoadi', 1), ('mlati', 1), ('sleman', 1), ('korban', 1), ('duga', 1), ('akibat', 1), ('bunuh', 1), ('diri', 1)]\n",
            "[('iya', 1), ('benar', 1), ('lapor', 1), ('duga', 1), ('bunuh', 1), ('diri', 1), ('daerah', 1), ('dusun', 1), ('jetis', 1), ('tirtoadi', 1), ('kamis', 1), ('malam', 1), ('ujar', 1), ('kanit', 1), ('reskrim', 1), ('polsek', 1), ('mlati', 1), ('iptu', 1), ('noor', 1), ('dwi', 1), ('cahyanto', 1), ('wartawan', 1), ('lalu', 1), ('pesan', 1), ('singkat', 1), ('jumat', 1)]\n",
            "[('korban', 2), ('tahu', 1), ('atas', 1), ('nama', 1), ('fh', 1), ('asal', 1), ('jawa', 1), ('timur', 1), ('dasar', 1), ('terang', 1), ('para', 1), ('saksi', 1), ('kumpul', 1), ('polisi', 1), ('duga', 1), ('bunuh', 1), ('diri', 1), ('lantar', 1), ('depresi', 1)]\n",
            "[('korban', 1), ('tahu', 1), ('mahasiswa', 1), ('guru', 1), ('tinggi', 1), ('swasta', 1), ('duga', 1), ('bunuh', 1), ('diri', 1), ('depresi', 1), ('info', 1), ('kami', 1), ('terima', 1), ('seperti', 1), ('masalah', 1), ('keluarga', 1), ('ada', 1), ('sulit', 1), ('selesai', 1), ('skripsi', 1), ('beber', 1)]\n",
            "[('kos', 2), ('noor', 1), ('jelas', 1), ('teman', 1), ('sama', 1), ('huni', 1), ('lihat', 1), ('kaki', 1), ('dalamsebuah', 1), ('kamar', 1), ('sedang', 1), ('bangun', 1), ('kamis', 1), ('malam', 1)]\n",
            "[('saksi', 1), ('sebut', 1), ('kemudian', 1), ('panggil', 1), ('teman', 1)]\n",
            "[('cek', 1), ('nyata', 1), ('temu', 1), ('korban', 1), ('ada', 1), ('simbah', 1), ('darah', 1)]\n",
            "[('kamar', 2), ('saksi', 2), ('korban', 2), ('dalam', 2), ('posisi', 2), ('kemudian', 1), ('takut', 1), ('situasi', 1), ('gelap', 1), ('panggil', 1), ('teman', 1), ('lihat', 1), ('ada', 1), ('simbah', 1), ('darah', 1), ('tengkurap', 1), ('kepala', 1), ('belah', 1), ('barat', 1), ('oleh', 1), ('lain', 1), ('balik', 1), ('jadi', 1), ('lentang', 1)]\n",
            "[('tuju', 1), ('pasti', 1), ('korban', 1), ('hidup', 1), ('tidak', 1)]\n",
            "[('nyata', 1), ('korban', 1), ('dalam', 1), ('ada', 1), ('tinggal', 1), ('ucap', 1)]\n"
          ]
        }
      ],
      "source": [
        "# Menampilkan token untuk setiap kalimat\n",
        "for i, tokens in enumerate(kalimat_tokens):\n",
        "  # print(tokens)\n",
        "  print(nltk.FreqDist(tokens).most_common())"
      ]
    },
    {
      "cell_type": "markdown",
      "metadata": {
        "id": "ElBkDhD8GF4L"
      },
      "source": [
        "# 05 TF-IDF\n"
      ]
    },
    {
      "cell_type": "code",
      "execution_count": null,
      "metadata": {
        "colab": {
          "base_uri": "https://localhost:8080/"
        },
        "id": "3ZTexxpXGIxC",
        "outputId": "5a964874-7bac-4e8c-d310-176668853615"
      },
      "outputs": [
        {
          "name": "stdout",
          "output_type": "stream",
          "text": [
            "+----+----------+----------+----------+----------+----------+----------+----------+----------+----------+----------+----------+------------+----------+----------+----------+---------------+----------+----------+-----------+----------+----------+----------+----------+----------+----------+----------+----------+----------+---------+----------+----------+----------+----------+----------+----------+----------+----------+----------+----------+----------+----------+----------+----------+------------+------------+----------+----------+----------+----------+----------+----------+----------+----------+-----------+----------+-------------+----------+-----------+----------+----------+----------+----------+----------+----------+-----------+----------+---------+----------+----------+----------+----------+-----------+----------+----------+----------+----------+----------+----------+-----------+-----------+----------+-----------+-----------+-----------+----------+----------+----------+----------+----------+----------+----------+-------------+----------+----------+---------+----------+-----------+----------+------------+---------+----------+----------+------------+--------------+\n",
            "|    |      ada |   akibat |     asal |     atas |    balik |   bangun |    barat |    beber |    belah |    benar |    bunuh |   cahyanto |      cek |   daerah |    dalam |   dalamsebuah |    darah |    dasar |   depresi |     desa |     diri |     duga |    dunia |    dusun |      dwi |       fh |    gelap |     guru |   hidup |     huni |     info |     iptu |      iya |     jadi |     jawa |    jelas |    jetis |    jumat |     kaki |    kamar |     kami |    kamis |    kanit |   keluarga |   kemudian |   kepala |   korban |      kos |   kumpul |     lain |     lalu |   lantar |    lapor |   lentang |    lihat |   mahasiswa |    malam |   masalah |    mlati |     nama |     noor |    nyata |     oleh |    orang |   panggil |     para |   pasti |    pesan |   polisi |   polsek |   posisi |   reskrim |    saksi |    salah |     sama |     satu |    sebut |   sedang |   selesai |   seperti |   simbah |   singkat |   situasi |   skripsi |   sleman |    sulit |   swasta |     tahu |    takut |    teman |     temu |   tengkurap |   terang |   terima |   tidak |    timur |   tinggal |   tinggi |   tirtoadi |    tuju |     ucap |     ujar |   wartawan |   yogyakarta |\n",
            "+====+==========+==========+==========+==========+==========+==========+==========+==========+==========+==========+==========+============+==========+==========+==========+===============+==========+==========+===========+==========+==========+==========+==========+==========+==========+==========+==========+==========+=========+==========+==========+==========+==========+==========+==========+==========+==========+==========+==========+==========+==========+==========+==========+============+============+==========+==========+==========+==========+==========+==========+==========+==========+===========+==========+=============+==========+===========+==========+==========+==========+==========+==========+==========+===========+==========+=========+==========+==========+==========+==========+===========+==========+==========+==========+==========+==========+==========+===========+===========+==========+===========+===========+===========+==========+==========+==========+==========+==========+==========+==========+=============+==========+==========+=========+==========+===========+==========+============+=========+==========+==========+============+==============+\n",
            "|  1 | 0        | 0.207526 | 0        | 0        | 0        | 0        | 0        | 0        | 0        | 0        | 0.137222 |   0        | 0        | 0        | 0        |      0        | 0        | 0        |  0        | 0.207526 | 0.137222 | 0.137222 | 0.415052 | 0.176416 | 0        | 0        | 0        | 0.176416 | 0       | 0        | 0        | 0        | 0        | 0        | 0        | 0        | 0.176416 | 0        | 0        | 0.154343 | 0        | 0        | 0        |   0        |   0        | 0        | 0.10116  | 0.176416 | 0        | 0        | 0        | 0        | 0        |  0        | 0        |    0.176416 | 0        |  0        | 0.176416 | 0        | 0        | 0        | 0        | 0.207526 |  0        | 0        | 0       | 0        | 0        | 0        | 0        |  0        | 0        | 0.207526 | 0        | 0.207526 | 0        | 0        |  0        |  0        | 0        |  0        |  0        |  0        | 0.207526 | 0        | 0.176416 | 0        | 0        | 0        | 0.176416 |    0        | 0        | 0        | 0       | 0        |  0.352832 | 0.176416 |   0.176416 | 0       | 0        | 0        |   0        |     0.207526 |\n",
            "+----+----------+----------+----------+----------+----------+----------+----------+----------+----------+----------+----------+------------+----------+----------+----------+---------------+----------+----------+-----------+----------+----------+----------+----------+----------+----------+----------+----------+----------+---------+----------+----------+----------+----------+----------+----------+----------+----------+----------+----------+----------+----------+----------+----------+------------+------------+----------+----------+----------+----------+----------+----------+----------+----------+-----------+----------+-------------+----------+-----------+----------+----------+----------+----------+----------+----------+-----------+----------+---------+----------+----------+----------+----------+-----------+----------+----------+----------+----------+----------+----------+-----------+-----------+----------+-----------+-----------+-----------+----------+----------+----------+----------+----------+----------+----------+-------------+----------+----------+---------+----------+-----------+----------+------------+---------+----------+----------+------------+--------------+\n",
            "|  2 | 0        | 0        | 0        | 0        | 0        | 0        | 0        | 0        | 0        | 0.211429 | 0.139803 |   0.211429 | 0        | 0.211429 | 0        |      0        | 0        | 0        |  0        | 0        | 0.139803 | 0.139803 | 0        | 0.179734 | 0.211429 | 0        | 0        | 0        | 0       | 0        | 0        | 0.211429 | 0.211429 | 0        | 0        | 0        | 0.179734 | 0.211429 | 0        | 0        | 0        | 0.179734 | 0.211429 |   0        |   0        | 0        | 0        | 0        | 0        | 0        | 0.211429 | 0        | 0.211429 |  0        | 0        |    0        | 0.179734 |  0        | 0.179734 | 0        | 0.179734 | 0        | 0        | 0        |  0        | 0        | 0       | 0.211429 | 0        | 0.211429 | 0        |  0.211429 | 0        | 0        | 0        | 0        | 0        | 0        |  0        |  0        | 0        |  0.211429 |  0        |  0        | 0        | 0        | 0        | 0        | 0        | 0        | 0        |    0        | 0        | 0        | 0       | 0        |  0        | 0        |   0.179734 | 0       | 0        | 0.211429 |   0.211429 |     0        |\n",
            "+----+----------+----------+----------+----------+----------+----------+----------+----------+----------+----------+----------+------------+----------+----------+----------+---------------+----------+----------+-----------+----------+----------+----------+----------+----------+----------+----------+----------+----------+---------+----------+----------+----------+----------+----------+----------+----------+----------+----------+----------+----------+----------+----------+----------+------------+------------+----------+----------+----------+----------+----------+----------+----------+----------+-----------+----------+-------------+----------+-----------+----------+----------+----------+----------+----------+----------+-----------+----------+---------+----------+----------+----------+----------+-----------+----------+----------+----------+----------+----------+----------+-----------+-----------+----------+-----------+-----------+-----------+----------+----------+----------+----------+----------+----------+----------+-------------+----------+----------+---------+----------+-----------+----------+------------+---------+----------+----------+------------+--------------+\n",
            "|  3 | 0        | 0        | 0.247989 | 0.247989 | 0        | 0        | 0        | 0        | 0        | 0        | 0.163977 |   0        | 0        | 0        | 0        |      0        | 0        | 0.247989 |  0.210813 | 0        | 0.163977 | 0.163977 | 0        | 0        | 0        | 0.247989 | 0        | 0        | 0       | 0        | 0        | 0        | 0        | 0        | 0.247989 | 0        | 0        | 0        | 0        | 0        | 0        | 0        | 0        |   0        |   0        | 0        | 0.241769 | 0        | 0.247989 | 0        | 0        | 0.247989 | 0        |  0        | 0        |    0        | 0        |  0        | 0        | 0.247989 | 0        | 0        | 0        | 0        |  0        | 0.247989 | 0       | 0        | 0.247989 | 0        | 0        |  0        | 0.184437 | 0        | 0        | 0        | 0        | 0        |  0        |  0        | 0        |  0        |  0        |  0        | 0        | 0        | 0        | 0.210813 | 0        | 0        | 0        |    0        | 0.247989 | 0        | 0       | 0.247989 |  0        | 0        |   0        | 0       | 0        | 0        |   0        |     0        |\n",
            "+----+----------+----------+----------+----------+----------+----------+----------+----------+----------+----------+----------+------------+----------+----------+----------+---------------+----------+----------+-----------+----------+----------+----------+----------+----------+----------+----------+----------+----------+---------+----------+----------+----------+----------+----------+----------+----------+----------+----------+----------+----------+----------+----------+----------+------------+------------+----------+----------+----------+----------+----------+----------+----------+----------+-----------+----------+-------------+----------+-----------+----------+----------+----------+----------+----------+----------+-----------+----------+---------+----------+----------+----------+----------+-----------+----------+----------+----------+----------+----------+----------+-----------+-----------+----------+-----------+-----------+-----------+----------+----------+----------+----------+----------+----------+----------+-------------+----------+----------+---------+----------+-----------+----------+------------+---------+----------+----------+------------+--------------+\n",
            "|  4 | 0.163666 | 0        | 0        | 0        | 0        | 0        | 0        | 0.247518 | 0        | 0        | 0.163666 |   0        | 0        | 0        | 0        |      0        | 0        | 0        |  0.210413 | 0        | 0.163666 | 0.163666 | 0        | 0        | 0        | 0        | 0        | 0.210413 | 0       | 0        | 0.247518 | 0        | 0        | 0        | 0        | 0        | 0        | 0        | 0        | 0        | 0.247518 | 0        | 0        |   0.247518 |   0        | 0        | 0.120655 | 0        | 0        | 0        | 0        | 0        | 0        |  0        | 0        |    0.210413 | 0        |  0.247518 | 0        | 0        | 0        | 0        | 0        | 0        |  0        | 0        | 0       | 0        | 0        | 0        | 0        |  0        | 0        | 0        | 0        | 0        | 0        | 0        |  0.247518 |  0.247518 | 0        |  0        |  0        |  0.247518 | 0        | 0.247518 | 0.210413 | 0.210413 | 0        | 0        | 0        |    0        | 0        | 0.247518 | 0       | 0        |  0        | 0.210413 |   0        | 0       | 0        | 0        |   0        |     0        |\n",
            "+----+----------+----------+----------+----------+----------+----------+----------+----------+----------+----------+----------+------------+----------+----------+----------+---------------+----------+----------+-----------+----------+----------+----------+----------+----------+----------+----------+----------+----------+---------+----------+----------+----------+----------+----------+----------+----------+----------+----------+----------+----------+----------+----------+----------+------------+------------+----------+----------+----------+----------+----------+----------+----------+----------+-----------+----------+-------------+----------+-----------+----------+----------+----------+----------+----------+----------+-----------+----------+---------+----------+----------+----------+----------+-----------+----------+----------+----------+----------+----------+----------+-----------+-----------+----------+-----------+-----------+-----------+----------+----------+----------+----------+----------+----------+----------+-------------+----------+----------+---------+----------+-----------+----------+------------+---------+----------+----------+------------+--------------+\n",
            "|  5 | 0        | 0        | 0        | 0        | 0        | 0.268341 | 0        | 0        | 0        | 0        | 0        |   0        | 0        | 0        | 0        |      0.268341 | 0        | 0        |  0        | 0        | 0        | 0        | 0        | 0        | 0        | 0        | 0        | 0        | 0       | 0.268341 | 0        | 0        | 0        | 0        | 0        | 0.268341 | 0        | 0        | 0.268341 | 0.199573 | 0        | 0.228115 | 0        |   0        |   0        | 0        | 0        | 0.45623  | 0        | 0        | 0        | 0        | 0        |  0        | 0.228115 |    0        | 0.228115 |  0        | 0        | 0        | 0.228115 | 0        | 0        | 0        |  0        | 0        | 0       | 0        | 0        | 0        | 0        |  0        | 0        | 0        | 0.268341 | 0        | 0        | 0.268341 |  0        |  0        | 0        |  0        |  0        |  0        | 0        | 0        | 0        | 0        | 0        | 0.199573 | 0        |    0        | 0        | 0        | 0       | 0        |  0        | 0        |   0        | 0       | 0        | 0        |   0        |     0        |\n",
            "+----+----------+----------+----------+----------+----------+----------+----------+----------+----------+----------+----------+------------+----------+----------+----------+---------------+----------+----------+-----------+----------+----------+----------+----------+----------+----------+----------+----------+----------+---------+----------+----------+----------+----------+----------+----------+----------+----------+----------+----------+----------+----------+----------+----------+------------+------------+----------+----------+----------+----------+----------+----------+----------+----------+-----------+----------+-------------+----------+-----------+----------+----------+----------+----------+----------+----------+-----------+----------+---------+----------+----------+----------+----------+-----------+----------+----------+----------+----------+----------+----------+-----------+-----------+----------+-----------+-----------+-----------+----------+----------+----------+----------+----------+----------+----------+-------------+----------+----------+---------+----------+-----------+----------+------------+---------+----------+----------+------------+--------------+\n",
            "|  6 | 0        | 0        | 0        | 0        | 0        | 0        | 0        | 0        | 0        | 0        | 0        |   0        | 0        | 0        | 0        |      0        | 0        | 0        |  0        | 0        | 0        | 0        | 0        | 0        | 0        | 0        | 0        | 0        | 0       | 0        | 0        | 0        | 0        | 0        | 0        | 0        | 0        | 0        | 0        | 0        | 0        | 0        | 0        |   0        |   0.451081 | 0        | 0        | 0        | 0        | 0        | 0        | 0        | 0        |  0        | 0        |    0        | 0        |  0        | 0        | 0        | 0        | 0        | 0        | 0        |  0.451081 | 0        | 0       | 0        | 0        | 0        | 0        |  0        | 0.394643 | 0        | 0        | 0        | 0.530627 | 0        |  0        |  0        | 0        |  0        |  0        |  0        | 0        | 0        | 0        | 0        | 0        | 0.394643 | 0        |    0        | 0        | 0        | 0       | 0        |  0        | 0        |   0        | 0       | 0        | 0        |   0        |     0        |\n",
            "+----+----------+----------+----------+----------+----------+----------+----------+----------+----------+----------+----------+------------+----------+----------+----------+---------------+----------+----------+-----------+----------+----------+----------+----------+----------+----------+----------+----------+----------+---------+----------+----------+----------+----------+----------+----------+----------+----------+----------+----------+----------+----------+----------+----------+------------+------------+----------+----------+----------+----------+----------+----------+----------+----------+-----------+----------+-------------+----------+-----------+----------+----------+----------+----------+----------+----------+-----------+----------+---------+----------+----------+----------+----------+-----------+----------+----------+----------+----------+----------+----------+-----------+-----------+----------+-----------+-----------+-----------+----------+----------+----------+----------+----------+----------+----------+-------------+----------+----------+---------+----------+-----------+----------+------------+---------+----------+----------+------------+--------------+\n",
            "|  7 | 0.309464 | 0        | 0        | 0        | 0        | 0        | 0        | 0        | 0        | 0        | 0        |   0        | 0.468013 | 0        | 0        |      0        | 0.397854 | 0        |  0        | 0        | 0        | 0        | 0        | 0        | 0        | 0        | 0        | 0        | 0       | 0        | 0        | 0        | 0        | 0        | 0        | 0        | 0        | 0        | 0        | 0        | 0        | 0        | 0        |   0        |   0        | 0        | 0.228137 | 0        | 0        | 0        | 0        | 0        | 0        |  0        | 0        |    0        | 0        |  0        | 0        | 0        | 0        | 0.397854 | 0        | 0        |  0        | 0        | 0       | 0        | 0        | 0        | 0        |  0        | 0        | 0        | 0        | 0        | 0        | 0        |  0        |  0        | 0.397854 |  0        |  0        |  0        | 0        | 0        | 0        | 0        | 0        | 0        | 0.397854 |    0        | 0        | 0        | 0       | 0        |  0        | 0        |   0        | 0       | 0        | 0        |   0        |     0        |\n",
            "+----+----------+----------+----------+----------+----------+----------+----------+----------+----------+----------+----------+------------+----------+----------+----------+---------------+----------+----------+-----------+----------+----------+----------+----------+----------+----------+----------+----------+----------+---------+----------+----------+----------+----------+----------+----------+----------+----------+----------+----------+----------+----------+----------+----------+------------+------------+----------+----------+----------+----------+----------+----------+----------+----------+-----------+----------+-------------+----------+-----------+----------+----------+----------+----------+----------+----------+-----------+----------+---------+----------+----------+----------+----------+-----------+----------+----------+----------+----------+----------+----------+-----------+-----------+----------+-----------+-----------+-----------+----------+----------+----------+----------+----------+----------+----------+-------------+----------+----------+---------+----------+-----------+----------+------------+---------+----------+----------+------------+--------------+\n",
            "|  8 | 0.123064 | 0        | 0        | 0        | 0.186114 | 0        | 0.186114 | 0        | 0.186114 | 0        | 0        |   0        | 0        | 0        | 0.316427 |      0        | 0.158214 | 0        |  0        | 0        | 0        | 0        | 0        | 0        | 0        | 0        | 0.186114 | 0        | 0       | 0        | 0        | 0        | 0        | 0.186114 | 0        | 0        | 0        | 0        | 0        | 0.276836 | 0        | 0        | 0        |   0        |   0.158214 | 0.186114 | 0.181446 | 0        | 0        | 0.186114 | 0        | 0        | 0        |  0.186114 | 0.158214 |    0        | 0        |  0        | 0        | 0        | 0        | 0        | 0.186114 | 0        |  0.158214 | 0        | 0       | 0        | 0        | 0        | 0.372227 |  0        | 0.276836 | 0        | 0        | 0        | 0        | 0        |  0        |  0        | 0.158214 |  0        |  0.186114 |  0        | 0        | 0        | 0        | 0        | 0.186114 | 0.138418 | 0        |    0.186114 | 0        | 0        | 0       | 0        |  0        | 0        |   0        | 0       | 0        | 0        |   0        |     0        |\n",
            "+----+----------+----------+----------+----------+----------+----------+----------+----------+----------+----------+----------+------------+----------+----------+----------+---------------+----------+----------+-----------+----------+----------+----------+----------+----------+----------+----------+----------+----------+---------+----------+----------+----------+----------+----------+----------+----------+----------+----------+----------+----------+----------+----------+----------+------------+------------+----------+----------+----------+----------+----------+----------+----------+----------+-----------+----------+-------------+----------+-----------+----------+----------+----------+----------+----------+----------+-----------+----------+---------+----------+----------+----------+----------+-----------+----------+----------+----------+----------+----------+----------+-----------+-----------+----------+-----------+-----------+-----------+----------+----------+----------+----------+----------+----------+----------+-------------+----------+----------+---------+----------+-----------+----------+------------+---------+----------+----------+------------+--------------+\n",
            "|  9 | 0        | 0        | 0        | 0        | 0        | 0        | 0        | 0        | 0        | 0        | 0        |   0        | 0        | 0        | 0        |      0        | 0        | 0        |  0        | 0        | 0        | 0        | 0        | 0        | 0        | 0        | 0        | 0        | 0.48578 | 0        | 0        | 0        | 0        | 0        | 0        | 0        | 0        | 0        | 0        | 0        | 0        | 0        | 0        |   0        |   0        | 0        | 0.236798 | 0        | 0        | 0        | 0        | 0        | 0        |  0        | 0        |    0        | 0        |  0        | 0        | 0        | 0        | 0        | 0        | 0        |  0        | 0        | 0.48578 | 0        | 0        | 0        | 0        |  0        | 0        | 0        | 0        | 0        | 0        | 0        |  0        |  0        | 0        |  0        |  0        |  0        | 0        | 0        | 0        | 0        | 0        | 0        | 0        |    0        | 0        | 0        | 0.48578 | 0        |  0        | 0        |   0        | 0.48578 | 0        | 0        |   0        |     0        |\n",
            "+----+----------+----------+----------+----------+----------+----------+----------+----------+----------+----------+----------+------------+----------+----------+----------+---------------+----------+----------+-----------+----------+----------+----------+----------+----------+----------+----------+----------+----------+---------+----------+----------+----------+----------+----------+----------+----------+----------+----------+----------+----------+----------+----------+----------+------------+------------+----------+----------+----------+----------+----------+----------+----------+----------+-----------+----------+-------------+----------+-----------+----------+----------+----------+----------+----------+----------+-----------+----------+---------+----------+----------+----------+----------+-----------+----------+----------+----------+----------+----------+----------+-----------+-----------+----------+-----------+-----------+-----------+----------+----------+----------+----------+----------+----------+----------+-------------+----------+----------+---------+----------+-----------+----------+------------+---------+----------+----------+------------+--------------+\n",
            "| 10 | 0.337309 | 0        | 0        | 0        | 0        | 0        | 0        | 0        | 0        | 0        | 0        |   0        | 0        | 0        | 0.433652 |      0        | 0        | 0        |  0        | 0        | 0        | 0        | 0        | 0        | 0        | 0        | 0        | 0        | 0       | 0        | 0        | 0        | 0        | 0        | 0        | 0        | 0        | 0        | 0        | 0        | 0        | 0        | 0        |   0        |   0        | 0        | 0.248665 | 0        | 0        | 0        | 0        | 0        | 0        |  0        | 0        |    0        | 0        |  0        | 0        | 0        | 0        | 0.433652 | 0        | 0        |  0        | 0        | 0       | 0        | 0        | 0        | 0        |  0        | 0        | 0        | 0        | 0        | 0        | 0        |  0        |  0        | 0        |  0        |  0        |  0        | 0        | 0        | 0        | 0        | 0        | 0        | 0        |    0        | 0        | 0        | 0       | 0        |  0.433652 | 0        |   0        | 0       | 0.510124 | 0        |   0        |     0        |\n",
            "+----+----------+----------+----------+----------+----------+----------+----------+----------+----------+----------+----------+------------+----------+----------+----------+---------------+----------+----------+-----------+----------+----------+----------+----------+----------+----------+----------+----------+----------+---------+----------+----------+----------+----------+----------+----------+----------+----------+----------+----------+----------+----------+----------+----------+------------+------------+----------+----------+----------+----------+----------+----------+----------+----------+-----------+----------+-------------+----------+-----------+----------+----------+----------+----------+----------+----------+-----------+----------+---------+----------+----------+----------+----------+-----------+----------+----------+----------+----------+----------+----------+-----------+-----------+----------+-----------+-----------+-----------+----------+----------+----------+----------+----------+----------+----------+-------------+----------+----------+---------+----------+-----------+----------+------------+---------+----------+----------+------------+--------------+\n"
          ]
        }
      ],
      "source": [
        "# Menggabungkan data token kembali menjadi teks\n",
        "data_text = [' '.join(doc) for doc in kalimat_tokens]\n",
        "\n",
        "# Inisialisasi dan fitting TfidfVectorizer\n",
        "vectorizer = TfidfVectorizer()\n",
        "X = vectorizer.fit_transform(data_text)\n",
        "\n",
        "# Membuat DataFrame dari hasil TF-IDF\n",
        "df_tfidf = pd.DataFrame(X.toarray(), columns=vectorizer.get_feature_names_out())\n",
        "\n",
        "printTable(df_tfidf, index = True)"
      ]
    },
    {
      "cell_type": "code",
      "execution_count": null,
      "metadata": {},
      "outputs": [],
      "source": [
        "# Menyimpan hasil Dataframe TF-IDF ke dalam file excel\n",
        "file_path = 'output.xlsx'\n",
        "df_tfidf.to_excel(file_path, index=False)\n",
        "print(\"TF-IDF telah disimpan dalam file Excel:\", file_path)"
      ]
    }
  ],
  "metadata": {
    "colab": {
      "collapsed_sections": [
        "xBgfI_Y_w8Ua",
        "GwGRcVa0xyrX",
        "2viXi5vOBoko",
        "BOeHpBnxER4t",
        "uR7iEQ_j8N9J"
      ],
      "provenance": []
    },
    "kernelspec": {
      "display_name": "Python 3",
      "name": "python3"
    },
    "language_info": {
      "name": "python"
    }
  },
  "nbformat": 4,
  "nbformat_minor": 0
}
